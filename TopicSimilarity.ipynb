{
  "nbformat": 4,
  "nbformat_minor": 0,
  "metadata": {
    "colab": {
      "name": "TopicSimilarity",
      "provenance": [],
      "collapsed_sections": [],
      "authorship_tag": "ABX9TyPRhTCI9BfOx1zFbU+ujMkV",
      "include_colab_link": true
    },
    "kernelspec": {
      "name": "python3",
      "display_name": "Python 3"
    }
  },
  "cells": [
    {
      "cell_type": "markdown",
      "metadata": {
        "id": "view-in-github",
        "colab_type": "text"
      },
      "source": [
        "<a href=\"https://colab.research.google.com/github/Aditya9517/Aditya9517.github.io/blob/master/TopicSimilarity.ipynb\" target=\"_parent\"><img src=\"https://colab.research.google.com/assets/colab-badge.svg\" alt=\"Open In Colab\"/></a>"
      ]
    },
    {
      "cell_type": "markdown",
      "metadata": {
        "id": "mHrFXRRQ6Hs8",
        "colab_type": "text"
      },
      "source": [
        "#Measuring Similarity Between Two Models Of The Same Size"
      ]
    },
    {
      "cell_type": "code",
      "metadata": {
        "id": "cGashaZH6DdF",
        "colab_type": "code",
        "outputId": "bb02c490-c788-40e8-c635-ae4b8cadf414",
        "colab": {
          "base_uri": "https://localhost:8080/",
          "height": 34
        }
      },
      "source": [
        "from google.colab import drive\n",
        "drive.mount('/content/drive')"
      ],
      "execution_count": 26,
      "outputs": [
        {
          "output_type": "stream",
          "text": [
            "Drive already mounted at /content/drive; to attempt to forcibly remount, call drive.mount(\"/content/drive\", force_remount=True).\n"
          ],
          "name": "stdout"
        }
      ]
    },
    {
      "cell_type": "code",
      "metadata": {
        "id": "T_o9XjCQ6lq-",
        "colab_type": "code",
        "colab": {}
      },
      "source": [
        "import csv\n",
        "import itertools\n",
        "import numpy as np\n",
        "import scipy\n",
        "import copy\n",
        "from queue import PriorityQueue\n",
        "import matplotlib.pyplot as plt\n",
        "import scipy.stats as stats\n",
        "from scipy.spatial.distance import jensenshannon\n",
        "import warnings\n",
        "warnings.filterwarnings(\"ignore\")"
      ],
      "execution_count": 0,
      "outputs": []
    },
    {
      "cell_type": "markdown",
      "metadata": {
        "id": "cUQTqIfxB58R",
        "colab_type": "text"
      },
      "source": [
        "# Reading Data from file\n"
      ]
    },
    {
      "cell_type": "code",
      "metadata": {
        "id": "6xTCOdw57dhc",
        "colab_type": "code",
        "colab": {}
      },
      "source": [
        "def read_topic_distribution():\n",
        "  topic_model_values = []\n",
        "  TM = []\n",
        "  with open('/content/drive/My Drive/topic_model_distribution.csv', 'r') as csv_file:\n",
        "    csv_reader = csv.reader(csv_file)\n",
        "    next(csv_reader)\n",
        "    for row in csv_reader:\n",
        "      x = np.array(row)\n",
        "      topic_model_values.append(x.astype(np.float64))\n",
        "    \n",
        "  for i in topic_model_values:\n",
        "    count = 0\n",
        "    r = []\n",
        "    for j in i:\n",
        "      r.append((count, j))\n",
        "      count += 1\n",
        "    TM.append(r)\n",
        "  return TM"
      ],
      "execution_count": 0,
      "outputs": []
    },
    {
      "cell_type": "code",
      "metadata": {
        "id": "Mzdh1KUL8k9n",
        "colab_type": "code",
        "colab": {}
      },
      "source": [
        "def measuring_similarity(TopicModel1, TopicModel2):\n",
        "  # Variable\n",
        "  Q = PriorityQueue()\n",
        "  # for i in TM:\n",
        "  #   print(i)\n",
        "  # TopicModel1 = TM[0]\n",
        "  # TopicModel2 = TM[1]\n",
        "  seen_topics1 = []\n",
        "  seen_topics2 = []\n",
        "  Dx = 0\n",
        "  T = []\n",
        "  \n",
        "  # Ordering Topic Models by Topic Distribution\n",
        "  TopicModel1.sort(key=lambda tup: tup[1]) \n",
        "  TopicModel2.sort(key=lambda tup: tup[1]) \n",
        "\n",
        "  # print(TopicModel1)\n",
        "  # print(TopicModel2)\n",
        "  for t1 in TopicModel1:\n",
        "    for t2 in TopicModel2:\n",
        "      Dx = jensenshannon(t1, t2)\n",
        "      Q.put((Dx,[t1, t2]))\n",
        "\n",
        "  while not Q.empty():\n",
        "    row = Q.get()\n",
        "    topic1 = row[1][0]\n",
        "    topic2 = row[1][1]\n",
        "    \n",
        "    if topic1 not in seen_topics1 and topic2 not in seen_topics2:\n",
        "      seen_topics1.append(topic1)\n",
        "      seen_topics2.append(topic2)\n",
        "      T.append([topic1, topic2])\n",
        "\n",
        "  # sorting the topics by topic distribution for each of the two topic models\n",
        "  seen_topics1.sort(key=lambda tup: tup[1]) \n",
        "  seen_topics2.sort(key=lambda tup: tup[1]) \n",
        "\n",
        "  # print(seen_topics1)\n",
        "  # print(seen_topics2)\n",
        "  t1 = [k[0] for k in seen_topics1]\n",
        "  t2 = [k[0] for k in seen_topics2]\n",
        "  return stats.kendalltau(t1, t2)\n"
      ],
      "execution_count": 0,
      "outputs": []
    },
    {
      "cell_type": "code",
      "metadata": {
        "id": "zdUpRCMgRD6L",
        "colab_type": "code",
        "colab": {
          "base_uri": "https://localhost:8080/",
          "height": 391
        },
        "outputId": "4f28feb5-420b-4153-c7df-7626b62440b9"
      },
      "source": [
        "corr = 0\n",
        "p = 0\n",
        "correl = []\n",
        "TM = read_topic_distribution()\n",
        "for TopicModeli in range(len(TM)):\n",
        "  correlation = []\n",
        "  pvalue = []\n",
        "  for TopicModelj in range(len(TM)):\n",
        "    if TopicModeli != TopicModelj:\n",
        "      corr, p = measuring_similarity(TM[TopicModeli], TM[TopicModelj])\n",
        "    correlation.append(corr)\n",
        "    correl.append(corr)\n",
        "  print(\"Topic Model\"+str(TopicModeli), \"corr = \" + str(sum(correlation)/len(correlation)))\n",
        "print(\"Average Kendall-Tau score over all pairs = \", str(sum(correl)/len(correl)))"
      ],
      "execution_count": 30,
      "outputs": [
        {
          "output_type": "stream",
          "text": [
            "Topic Model0 corr = 0.8734868446175581\n",
            "Topic Model1 corr = 0.9146904952839195\n",
            "Topic Model2 corr = 0.9354387036824887\n",
            "Topic Model3 corr = 0.9371443846183221\n",
            "Topic Model4 corr = 0.916879876783646\n",
            "Topic Model5 corr = 0.8979137230941558\n",
            "Topic Model6 corr = 0.9309581089853742\n",
            "Topic Model7 corr = 0.9350822927406729\n",
            "Topic Model8 corr = 0.9365333944323518\n",
            "Topic Model9 corr = 0.9210040605389441\n",
            "Topic Model10 corr = 0.9200366594111581\n",
            "Topic Model11 corr = 0.9394610557401254\n",
            "Topic Model12 corr = 0.9216914244981605\n",
            "Topic Model13 corr = 0.9198075380914194\n",
            "Topic Model14 corr = 0.9242626748641182\n",
            "Topic Model15 corr = 0.8693244739756365\n",
            "Topic Model16 corr = 0.9371443846183218\n",
            "Topic Model17 corr = 0.9384427387635087\n",
            "Topic Model18 corr = 0.8966153689489693\n",
            "Topic Model19 corr = 0.9322310052061455\n",
            "Topic Model20 corr = 0.9371443846183221\n",
            "Average Kendall-Tau score over all pairs =  0.9207282663577783\n"
          ],
          "name": "stdout"
        }
      ]
    },
    {
      "cell_type": "code",
      "metadata": {
        "id": "x5Msmr_Mml_0",
        "colab_type": "code",
        "colab": {}
      },
      "source": [
        "def plot_it(x, y, xname, yname, topic=\"\"):\n",
        "    plt.clf()\n",
        "    plt.plot(x, y, color='blue')\n",
        "    if topic:\n",
        "        plt.title(topic)\n",
        "        plt.grid()\n",
        "    plt.xlabel(xname, fontsize=12)\n",
        "    plt.ylabel(yname, fontsize=12)\n",
        "    plt.show()\n",
        "parameter_list = [40, 45, 50, 55, 60, 65, 70, 75, 80, 85, 90, 95, 100, 105, 110, 115, 120, 125, 130, 135, 140]\n",
        "\n",
        "\n",
        "\n",
        "\n",
        "c = [0.8734868446175581\n",
        ",0.9146904952839195\n",
        ",0.9354387036824887\n",
        ", 0.9371443846183221\n",
        ",0.916879876783646\n",
        ",0.8979137230941558\n",
        ",0.9309581089853742\n",
        ",0.9350822927406729\n",
        ",0.9365333944323518\n",
        ",0.9210040605389441\n",
        ",0.9200366594111581\n",
        ",0.9394610557401254\n",
        ", 0.9216914244981605\n",
        ",0.9198075380914194\n",
        ",0.9242626748641182\n",
        ",0.8693244739756365\n",
        ",0.9371443846183218\n",
        ",0.9384427387635087\n",
        ",0.8966153689489693\n",
        ",0.9322310052061455\n",
        ",0.9371443846183221]"
      ],
      "execution_count": 0,
      "outputs": []
    },
    {
      "cell_type": "code",
      "metadata": {
        "id": "Y3iK89kXnlNm",
        "colab_type": "code",
        "colab": {
          "base_uri": "https://localhost:8080/",
          "height": 282
        },
        "outputId": "bed1f9e2-c27c-4f7f-9119-c4ae004fa674"
      },
      "source": [
        "plot_it(parameter_list, c, \"Number of Topics\", \"Kendall-Tau Similarity\")"
      ],
      "execution_count": 39,
      "outputs": [
        {
          "output_type": "display_data",
          "data": {
            "image/png": "[encoded data removed]",
            "text/plain": [
              "<Figure size 432x288 with 1 Axes>"
            ]
          },
          "metadata": {
            "tags": [],
            "needs_background": "light"
          }
        }
      ]
    }
  ]
}